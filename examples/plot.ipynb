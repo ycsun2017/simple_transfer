{
 "cells": [
  {
   "cell_type": "code",
   "execution_count": null,
   "source": [
    "import numpy as np\n",
    "\n",
    "import math\n",
    "import decimal\n",
    "import sys\n",
    "import os\n",
    "import matplotlib\n",
    "# matplotlib.use('TkAgg')\n",
    "import matplotlib.pyplot as pyplot\n",
    "import tikzplotlib\n",
    "import numpy as np\n",
    "import csv\n",
    "\n",
    "import warnings\n",
    "warnings.filterwarnings(\"ignore\")\n",
    "\n",
    "from matplotlib.ticker import MaxNLocator\n",
    "ax = pyplot.figure().gca()\n",
    "ax.xaxis.set_major_locator(MaxNLocator(integer=True))\n",
    "pyplot.rcParams['legend.loc'] = 'best'\n",
    "# Some nice markers and colors for plotting.\n",
    "markers = ['o', 's', 'D', '^', '*', 'x', 'p', '+', 'v','|']\n",
    "\n",
    "COLOR_SHIFT = 0\n",
    "color_ls = [[118, 167, 125], [102, 120, 173],\\\n",
    "            [198, 113, 113], [94, 94, 94],\\\n",
    "            [169, 193, 213], [230, 169, 132],\\\n",
    "            [192, 197, 182], [210, 180, 226]]\n",
    "colors = [[shade / 255.0 for shade in rgb] for rgb in color_ls]\n",
    "colors = colors[COLOR_SHIFT:] + colors[:COLOR_SHIFT]"
   ],
   "outputs": [],
   "metadata": {}
  },
  {
   "cell_type": "code",
   "execution_count": 10,
   "source": [
    "def read_reward(filename):\n",
    "    rewards = []\n",
    "    with open(filename, 'r') as resFile:\n",
    "        reader = csv.reader(resFile)\n",
    "        data = list(reader)\n",
    "        n = len(data[0])\n",
    "        for j in range(n):\n",
    "            if data[0][j]:\n",
    "                rewards.append(float(data[0][j]))\n",
    "    return rewards\n",
    "\n",
    "def read_reward_multi(filename, ins=1):\n",
    "    rewards = []\n",
    "    with open(filename, 'r') as resFile:\n",
    "        reader = csv.reader(resFile)\n",
    "        data = list(reader)\n",
    "        n = len(data[0])\n",
    "        for i in range(ins):\n",
    "            ins_reward = []\n",
    "            for j in range(n):\n",
    "                if data[i][j]:\n",
    "                    ins_reward.append(float(data[i][j]))\n",
    "            rewards.append(ins_reward)\n",
    "    return np.array(rewards)\n",
    "\n",
    "def stat_reward_multi(filename, ins=1):\n",
    "    rewards = []\n",
    "    with open(filename, 'r') as resFile:\n",
    "        reader = csv.reader(resFile)\n",
    "        data = list(reader)\n",
    "        n = len(data[0])\n",
    "        for i in range(ins):\n",
    "            total_reward = 0\n",
    "            for j in range(n):\n",
    "                if data[i][j]:\n",
    "                    total_reward += float(data[i][j])\n",
    "            rewards.append(total_reward/(n-1))\n",
    "    rewards = np.array(rewards)\n",
    "    # print(rewards)\n",
    "    return rewards.mean(), rewards.std()"
   ],
   "outputs": [],
   "metadata": {}
  },
  {
   "cell_type": "code",
   "execution_count": 20,
   "source": [
    "rew = read_reward_multi(\"results/gridworld_h-4_w-4/Transfer-Q_ck{}.csv\".format(50), 5)\n",
    "print(rew.shape)\n",
    "print(rew.mean(0))"
   ],
   "outputs": [
    {
     "output_type": "stream",
     "name": "stdout",
     "text": [
      "(5, 200)\n",
      "[-4.00000000e+00 -4.00000000e+00 -3.40000000e+00 -3.20000000e+00\n",
      " -3.60000000e+00 -3.20000000e+00 -2.60000000e+00 -3.20000000e+00\n",
      " -2.80000000e+00 -2.80000000e+00 -3.20000000e+00 -2.80000000e+00\n",
      " -2.80000000e+00 -3.20000000e+00 -2.80000000e+00 -3.20000000e+00\n",
      " -2.60000000e+00 -2.80000000e+00 -3.00000000e+00 -3.00000000e+00\n",
      " -2.60000000e+00 -2.80000000e+00 -3.00000000e+00 -2.80000000e+00\n",
      " -3.00000000e+00 -3.00000000e+00 -2.80000000e+00 -3.00000000e+00\n",
      " -2.80000000e+00 -2.60000000e+00 -3.00000000e+00 -2.60000000e+00\n",
      " -2.80000000e+00 -3.00000000e+00 -2.80000000e+00 -2.80000000e+00\n",
      " -2.80000000e+00 -2.80000000e+00 -2.80000000e+00 -2.80000000e+00\n",
      " -2.80000000e+00 -2.80000000e+00 -2.80000000e+00 -2.80000000e+00\n",
      " -3.00000000e+00 -2.40000000e+00 -3.00000000e+00 -2.40000000e+00\n",
      " -2.40000000e+00 -2.20000000e+00 -2.80000000e+00 -3.20000000e+00\n",
      " -2.60000000e+00 -2.80000000e+00 -2.80000000e+00 -2.40000000e+00\n",
      " -2.80000000e+00 -2.40000000e+00 -2.60000000e+00 -2.20000000e+00\n",
      " -2.40000000e+00 -2.60000000e+00 -2.00000000e+00 -2.20000000e+00\n",
      " -2.60000000e+00 -2.00000000e+00 -1.80000000e+00 -2.20000000e+00\n",
      " -1.80000000e+00 -2.20000000e+00 -2.20000000e+00 -2.00000000e+00\n",
      " -2.00000000e+00 -1.80000000e+00 -2.20000000e+00 -1.00000000e+00\n",
      " -1.80000000e+00 -8.00000000e-01 -1.40000000e+00 -1.00000000e+00\n",
      " -1.80000000e+00 -1.80000000e+00 -1.00000000e+00 -8.00000000e-01\n",
      " -6.00000000e-01 -1.00000000e+00 -2.44249065e-16 -4.00000000e-01\n",
      " -1.00000000e+00 -8.00000000e-01 -8.00000000e-01 -6.00000000e-01\n",
      " -8.00000000e-01 -2.00000000e-01 -8.00000000e-01 -6.00000000e-01\n",
      " -1.60000000e+00 -2.00000000e-01 -3.77475828e-16 -1.33226763e-16\n",
      " -2.00000000e-01  2.00000000e-01 -2.00000000e-01  2.00000000e-01\n",
      " -2.00000000e-01 -6.00000000e-01 -6.00000000e-01 -4.00000000e-01\n",
      " -4.00000000e-01 -6.00000000e-01  2.00000000e-01 -4.00000000e-01\n",
      "  4.00000000e-01 -6.00000000e-01  6.00000000e-01  2.00000000e-01\n",
      "  6.00000000e-01  2.88657986e-16 -2.00000000e-01  6.00000000e-01\n",
      " -4.00000000e-01 -8.00000000e-01  1.44328993e-16  2.00000000e-01\n",
      "  4.00000000e-01  2.00000000e-01  2.00000000e-01 -2.44249065e-16\n",
      " -4.00000000e-01  2.00000000e-01 -2.00000000e-01  4.00000000e-01\n",
      "  6.00000000e-01 -2.22044605e-16  2.00000000e-01  2.00000000e-01\n",
      "  4.00000000e-01  2.00000000e-01  4.00000000e-01  2.00000000e-01\n",
      "  4.00000000e-01  6.00000000e-01  4.00000000e-01 -4.99600361e-17\n",
      " -1.55431223e-16  2.00000000e-01  4.00000000e-01  4.00000000e-01\n",
      "  6.00000000e-01  2.38697950e-16  2.00000000e-01  2.00000000e-01\n",
      "  4.00000000e-01  4.00000000e-01  6.00000000e-01  4.00000000e-01\n",
      "  8.00000000e-01  4.00000000e-01 -2.00000000e-01 -2.22044605e-16\n",
      "  4.00000000e-01 -6.00000000e-01  6.00000000e-01 -4.00000000e-01\n",
      "  2.00000000e-01  6.00000000e-01  6.00000000e-01 -4.00000000e-01\n",
      "  6.00000000e-01  4.00000000e-01  2.00000000e-01  6.00000000e-01\n",
      "  8.00000000e-01  2.00000000e-01 -1.49880108e-16  2.00000000e-01\n",
      "  4.00000000e-01  8.00000000e-01 -2.00000000e-01  2.00000000e-01\n",
      "  4.00000000e-01  8.00000000e-01  2.00000000e-01  4.00000000e-01\n",
      " -4.00000000e-01  2.00000000e-01  6.00000000e-01  6.00000000e-01\n",
      "  4.00000000e-01  2.00000000e-01  1.66533454e-16  6.00000000e-01\n",
      "  2.22044605e-16  4.00000000e-01  2.00000000e-01  1.00000000e+00\n",
      "  2.00000000e-01  2.00000000e-01  1.55431223e-16  2.00000000e-01]\n"
     ]
    }
   ],
   "metadata": {}
  },
  {
   "cell_type": "code",
   "execution_count": 12,
   "source": [
    "ins = 5\n",
    "dirname = \"results/gridworld_h-4_w-4/\""
   ],
   "outputs": [],
   "metadata": {}
  },
  {
   "cell_type": "code",
   "execution_count": 11,
   "source": [
    "xs = list(range(50, 2000, 100)) + list(range(2000, 10000, 1000))\n",
    "all_rewards = []\n",
    "all_std = []\n",
    "for ck in xs:\n",
    "    reward_mean, reward_std = stat_reward_multi(dirname+\"Transfer-Q_ck{}.csv\".format(ck), ins)\n",
    "    print(ck, reward_mean, reward_std)\n",
    "    all_rewards.append(reward_mean)\n",
    "    all_std.append(reward_std)"
   ],
   "outputs": [
    {
     "output_type": "stream",
     "name": "stdout",
     "text": [
      "50 -1.0330000000000001 0.1584487298781534\n",
      "150 -0.07400000000000011 0.07371566997592843\n",
      "250 0.03899999999999988 0.08563877626402655\n",
      "350 0.3829999999999999 0.08657944328765345\n",
      "450 0.47699999999999987 0.10651760417883982\n",
      "550 0.6069999999999999 0.05938013135721408\n",
      "650 0.7849999999999999 0.05357238094391547\n",
      "750 0.852 0.03969886648255842\n",
      "850 0.7399999999999999 0.05856620185738527\n",
      "950 0.853 0.08818163074019442\n",
      "1050 0.8979999999999999 0.08541662601625045\n",
      "1150 0.8379999999999999 0.11724333669765631\n",
      "1250 1.0059999999999998 0.07774316690230727\n",
      "1350 0.9579999999999999 0.044899888641287286\n",
      "1450 0.9819999999999999 0.07270488291717413\n",
      "1550 1.0709999999999997 0.09024411338142779\n",
      "1650 0.9119999999999999 0.04296510211788168\n",
      "1750 1.0579999999999998 0.03854867053479275\n",
      "1850 1.055 0.11679041056525147\n",
      "1950 1.0649999999999997 0.09497368056467012\n",
      "2000 1.012 0.0505568986390582\n",
      "3000 1.051 0.05598214000911358\n",
      "4000 1.103 0.06607571414672717\n",
      "5000 1.1109999999999998 0.0335261092284804\n",
      "6000 1.1479999999999997 0.09319871243745798\n",
      "7000 1.1969999999999998 0.04261455150532502\n",
      "8000 1.1539999999999997 0.038781438859330636\n",
      "9000 1.234 0.09024411338142779\n"
     ]
    }
   ],
   "metadata": {}
  },
  {
   "cell_type": "code",
   "execution_count": 15,
   "source": [
    "all_rewards = np.array(all_rewards)\n",
    "all_std = np.array(all_std)"
   ],
   "outputs": [],
   "metadata": {}
  },
  {
   "cell_type": "code",
   "execution_count": 13,
   "source": [
    "source_mean, source_std = stat_reward_multi(dirname+\"source.csv\", ins)\n",
    "print(source_mean, source_std)\n",
    "\n",
    "target_mean, target_std = stat_reward_multi(dirname+\"Linear-Q.csv\", ins)\n",
    "print(target_mean, target_std)\n",
    "\n",
    "rand_mean, rand_std = stat_reward_multi(dirname+\"Random.csv\", ins)\n",
    "print(rand_mean, rand_std)\n",
    "\n",
    "deep_mean, deep_std = stat_reward_multi(dirname+\"deep.csv\", ins)\n",
    "print(deep_mean, deep_std)"
   ],
   "outputs": [
    {
     "output_type": "stream",
     "name": "stdout",
     "text": [
      "1.4329999999999998 0.16690116836020047\n",
      "-3.9940000000000007 0.007348469228349595\n",
      "-3.4650000000000007 0.02366431913239841\n",
      "1.3739999999999997 0.2497879100356941\n"
     ]
    }
   ],
   "metadata": {}
  },
  {
   "cell_type": "code",
   "execution_count": 17,
   "source": [
    "pyplot.plot(xs, [source_mean]*len(xs), color=colors[0], label=\"Source\")\n",
    "pyplot.fill_between(xs, [source_mean-source_std]*len(xs), [source_mean+source_std]*len(xs), \n",
    "    color=colors[0], alpha=0.5)\n",
    "\n",
    "pyplot.plot(xs, [target_mean]*len(xs), color=colors[1], label=\"Target Single Linear\")\n",
    "pyplot.fill_between(xs, [target_mean-target_std]*len(xs), [target_mean+target_std]*len(xs), \n",
    "    color=colors[1], alpha=0.5)\n",
    "\n",
    "pyplot.plot(xs, [deep_mean]*len(xs), color=colors[3], label=\"Target Single Deep\")\n",
    "pyplot.fill_between(xs, [deep_mean-deep_std]*len(xs), [deep_mean+deep_std]*len(xs), \n",
    "    color=colors[3], alpha=0.5)\n",
    "\n",
    "pyplot.plot(xs, all_rewards, color=colors[2], marker=markers[2], label=\"Target Transfer\")\n",
    "pyplot.fill_between(xs, all_rewards-all_std, all_rewards+all_std, color=colors[2], alpha=0.5)\n",
    "\n",
    "pyplot.legend()\n",
    "pyplot.xlabel(\"Pre-training steps\")\n",
    "pyplot.ylabel(\"Mean Episode Reward\")\n",
    "pyplot.savefig(\"plots/final_refine.png\", format=\"png\")\n",
    "pyplot.close()"
   ],
   "outputs": [],
   "metadata": {}
  },
  {
   "cell_type": "code",
   "execution_count": 22,
   "source": [
    "reward_all = []\n",
    "std_all = []\n",
    "xs = list(range(50, 2000, 100)) + list(range(2000, 10000, 1000))\n",
    "# xs = list(range(50, 750, 50)) + list(range(800, 2000, 200)) + list(range(4000, 20000, 2000))\n",
    "for ck in xs:\n",
    "    rewards_arr = read_reward_multi(\"results/gridworld_h-4_w-4/Transfer-Q_ck{}.csv\".format(ck), ins)\n",
    "    reward_all.append(rewards_arr.mean(0))\n",
    "    std_all.append(rewards_arr.std(0))"
   ],
   "outputs": [],
   "metadata": {}
  },
  {
   "cell_type": "code",
   "execution_count": 30,
   "source": [
    "deep_arr = read_reward_multi(dirname+\"deep.csv\", ins)\n",
    "mean_deep = deep_arr.mean(0)\n",
    "std_deep = deep_arr.std(0)"
   ],
   "outputs": [],
   "metadata": {}
  },
  {
   "cell_type": "code",
   "execution_count": 28,
   "source": [
    "mean_deep.shape"
   ],
   "outputs": [
    {
     "output_type": "execute_result",
     "data": {
      "text/plain": [
       "(200,)"
      ]
     },
     "metadata": {},
     "execution_count": 28
    }
   ],
   "metadata": {}
  },
  {
   "cell_type": "code",
   "execution_count": 32,
   "source": [
    "ns = list(range(200))\n",
    "# pyplot.plot(ns, reward_all[0], color=colors[0], marker=markers[0], label=\"First\")\n",
    "# pyplot.fill_between(ns, reward_all[0]-std_all[0], reward_all[0]+std_all[0], color=colors[0], alpha=0.5)\n",
    "\n",
    "pyplot.plot(ns, mean_deep, color=colors[1], label=\"Deep\")\n",
    "pyplot.fill_between(ns, mean_deep-std_deep, mean_deep+std_deep, color=colors[1], alpha=0.5)\n",
    "\n",
    "pyplot.plot(ns, reward_all[-1], color=colors[2], label=\"Transfer\")\n",
    "pyplot.fill_between(ns, reward_all[-1]-std_all[-1], reward_all[-1]+std_all[-1], color=colors[2], alpha=0.5)\n",
    "\n",
    "pyplot.legend()\n",
    "pyplot.savefig(\"plots/first_last.png\", format=\"png\")\n",
    "pyplot.close()"
   ],
   "outputs": [],
   "metadata": {}
  },
  {
   "cell_type": "code",
   "execution_count": 33,
   "source": [
    "rewards = read_reward(\"results/gridworld_h-4_w-4/Linear-Q.csv\")\n",
    "rewards_arr = np.array(rewards)\n",
    "source_mean, source_std = rewards_arr.mean(), rewards_arr.std()\n",
    "print(source_mean, source_std)"
   ],
   "outputs": [
    {
     "output_type": "stream",
     "name": "stdout",
     "text": [
      "1.5549999999999995 0.8467437628940647\n"
     ]
    }
   ],
   "metadata": {}
  },
  {
   "cell_type": "code",
   "execution_count": 35,
   "source": [
    "rewards = read_reward(\"results/gridworld_h-4_w-4/RBF Encoder.csv\")\n",
    "rewards_arr = np.array(rewards)\n",
    "rbf_mean, rbf_std = rewards_arr.mean(), rewards_arr.std()\n",
    "print(rbf_mean, rbf_std)"
   ],
   "outputs": [
    {
     "output_type": "stream",
     "name": "stdout",
     "text": [
      "1.5899999999999994 0.7822403722641781\n"
     ]
    }
   ],
   "metadata": {}
  },
  {
   "cell_type": "code",
   "execution_count": 36,
   "source": [
    "rewards = read_reward(\"results/gridworld_h-4_w-4/Target-Linear-Q.csv\")\n",
    "rewards_arr = np.array(rewards)\n",
    "targ_mean, targ_std = rewards_arr.mean(), rewards_arr.std()\n",
    "print(targ_mean, targ_std)"
   ],
   "outputs": [
    {
     "output_type": "stream",
     "name": "stdout",
     "text": [
      "-4.000000000000001 8.881784197001252e-16\n"
     ]
    }
   ],
   "metadata": {}
  },
  {
   "cell_type": "code",
   "execution_count": 39,
   "source": [
    "pyplot.plot(xs, [source_mean]*len(xs), color=colors[0], label=\"Source\")\n",
    "pyplot.fill_between(xs, [source_mean-source_std]*len(xs), [source_mean+source_std]*len(xs), \n",
    "    color=colors[0], alpha=0.5)\n",
    "\n",
    "pyplot.plot(xs, [targ_mean]*len(xs), color=colors[1], label=\"Target Single\")\n",
    "pyplot.fill_between(xs, [targ_mean-targ_std]*len(xs), [targ_mean+targ_std]*len(xs), \n",
    "    color=colors[1], alpha=0.5)\n",
    "\n",
    "pyplot.plot(xs, all_rewards, color=colors[2], marker=markers[2], label=\"Target Transfer\")\n",
    "pyplot.fill_between(xs, all_rewards-all_std, all_rewards+all_std, color=colors[2], alpha=0.5)\n",
    "\n",
    "pyplot.legend()\n",
    "pyplot.xlabel(\"Pre-training steps\")\n",
    "pyplot.ylabel(\"Mean Episode Reward\")\n",
    "pyplot.savefig(\"plots/final.png\", format=\"png\")\n",
    "pyplot.close()"
   ],
   "outputs": [],
   "metadata": {}
  },
  {
   "cell_type": "code",
   "execution_count": null,
   "source": [],
   "outputs": [],
   "metadata": {}
  }
 ],
 "metadata": {
  "interpreter": {
   "hash": "07a5a930418480431e475d2ccc76db2ba2c66f77be854cb158ec97a5433e7b9a"
  },
  "kernelspec": {
   "name": "python3",
   "display_name": "Python 3.6.10 64-bit ('spinningup': conda)"
  },
  "language_info": {
   "codemirror_mode": {
    "name": "ipython",
    "version": 3
   },
   "file_extension": ".py",
   "mimetype": "text/x-python",
   "name": "python",
   "nbconvert_exporter": "python",
   "pygments_lexer": "ipython3",
   "version": "3.6.10"
  }
 },
 "nbformat": 4,
 "nbformat_minor": 2
}